{
 "cells": [
  {
   "cell_type": "code",
   "execution_count": 2,
   "metadata": {},
   "outputs": [],
   "source": [
    "from selenium import webdriver\n",
    "from selenium.webdriver.common.keys import Keys\n",
    "import time # 사이트 기동될 때 까지 2초 정도를 줌. - 셀리니움에서 get. request에서 get쓸 때\n",
    "import pymysql"
   ]
  },
  {
   "cell_type": "code",
   "execution_count": 3,
   "metadata": {},
   "outputs": [],
   "source": [
    "def mtUrl(search):\n",
    "        url_temp = 'https://search.mt.co.kr/searchNewsList.html?srchFd=TOTAL&range=IN&reSrchFlag=&preKwd=&search_type=m&kwd={search}&bgndt=20190401&enddt=20190930&category=MTNW&sortType=allwordsyn&subYear=&category=MTNW&subType=mt'.format(search=search)\n",
    "        driver = webdriver.Chrome(\"./chromedriver.exe\")\n",
    "        driver.get(url_temp)\n",
    "        time.sleep(2)\n",
    "        return mtUrlList(driver)"
   ]
  },
  {
   "cell_type": "code",
   "execution_count": 1,
   "metadata": {},
   "outputs": [],
   "source": [
    "# 2단계 목록에서 href 가져오기\n",
    "def mtUrlList(driver):\n",
    "    url_temp = driver.current_url \n",
    "    for pageNo in range(1, 31):\n",
    "        url = url_temp + \"&pageNum={pageNo}\".format(pageNo=pageNo)\n",
    "        driver.get(url)\n",
    "        mtUrls_List = []\n",
    "        mtUrls = driver.find_elements_by_css_selector(\".section .bundle .con .subject a\")\n",
    "        if len(mtUrls) == 0:\n",
    "            break\n",
    "        for urlList in mtUrls:\n",
    "            mtUrls_List.append(urlList.get_attribute(\"href\"))\n",
    "        mtInfo(driver, mtUrls_List)"
   ]
  },
  {
   "cell_type": "code",
   "execution_count": 4,
   "metadata": {},
   "outputs": [],
   "source": [
    "def mtInfo(driver, mtUrls_List):\n",
    "    for urllist in mtUrls_List:\n",
    "        driver.get(urllist)\n",
    "        time.sleep(3)\n",
    "#         . 은 class, # 은 id값, HTML tag는 그대로 표현됨\n",
    "\n",
    "        try:\n",
    "            # 부제목\n",
    "            newsSubtitle = \"\"\n",
    "            if driver.find_elements_by_css_selector(\".sub_subject\") != []:\n",
    "                newsSubtitleList = driver.find_elements_by_css_selector(\".sub_subject\")\n",
    "                newsSubtitle_temp = newsSubtitleList[0]\n",
    "                newsSubtitle = newsSubtitle_temp.text\n",
    "            else:\n",
    "                newsSubtitle = \"\"    \n",
    "                \n",
    "            # 제목\n",
    "            newsTitleList = driver.find_elements_by_css_selector(\".subject\")\n",
    "            newsTitle_temp = newsTitleList[0]\n",
    "            newsTitle = newsTitle_temp.text\n",
    "\n",
    "            # 날짜\n",
    "            newsDate = \"\"\n",
    "            newsDateList = driver.find_elements_by_css_selector(\".date\")\n",
    "            newsDate_temp = newsDateList[0]\n",
    "            newsDate = newsDate_temp.text\n",
    "            newsDate = newsDate.replace('\"', '').replace(\".\", \"\")[0:8]\n",
    "\n",
    "\n",
    "    #         내용\n",
    "            newsContents = \"\"\n",
    "            newsContentsList = driver.find_elements_by_css_selector(\"#gisa_section .view_text #textBody\")\n",
    "            for newsContent in newsContentsList:\n",
    "                newsContents = newsContents + newsContent.text\n",
    "\n",
    "            #  print\n",
    "            print(\"url: \", urllist)\n",
    "            print(\"제목: \", newsTitle)\n",
    "            print(\"소제목: \", newsSubtitle)\n",
    "#             print(\"날짜: \", newsDate)\n",
    "#             print(\"내용: \", newsContents)\n",
    "        except:\n",
    "            print(\"-----에러 url-----\", url)\n",
    "            continue\n",
    "        \n",
    "        dbData = [[urllist, newsTitle, newsDate, newsSubtitle, newsContents]]\n",
    "        connectDB(dbData)"
   ]
  },
  {
   "cell_type": "code",
   "execution_count": 5,
   "metadata": {},
   "outputs": [],
   "source": [
    "def connectDB(dbData):\n",
    "    DB_HOST = '127.0.0.1'\n",
    "    DB_USER = 'root'\n",
    "    DB_PASSWD = 'autoset'\n",
    "    DB_NAME = 'final'\n",
    "    \n",
    "    conn = pymysql.connect(host=DB_HOST, user=DB_USER, password=DB_PASSWD,\n",
    "                          db=DB_NAME, charset='utf8')\n",
    "    curs = conn.cursor()\n",
    "    sql = \"\"\"insert into mt(url, title, date, sub_title, contents) values (%s, %s, %s, %s, %s)\"\"\"\n",
    "    curs.executemany(sql,dbData)\n",
    "    conn.commit()\n",
    "    \n",
    "    conn.close()"
   ]
  },
  {
   "cell_type": "code",
   "execution_count": 5,
   "metadata": {
    "scrolled": true
   },
   "outputs": [
    {
     "name": "stdout",
     "output_type": "stream",
     "text": [
      "url:  https://news.mt.co.kr/mtview.php?no=2019041013405871973&type=1\n",
      "제목:  '클룩', 2600억원 투자 유치…\"아시아 시장 강화 나선다\"\n",
      "소제목:  소프트뱅크 비전펀드 등 기존 투자사 참여…누적 투자 6000억원으로 업계 최대 규모\n",
      "url:  https://news.mt.co.kr/mtview.php?no=2019040911427052248&type=1\n",
      "제목:  [돈 잘 버는 증권맨에게 듣는다] 中 수입품 감세·크루즈 여행상품 완화 정책으로 화장품 업종 수혜 기대\n",
      "소제목:  \n",
      "url:  https://news.mt.co.kr/mtview.php?no=2019040715335913258&type=1\n",
      "제목:  '욘사마' 때 태어난 日중고생들, 다시 '한류' 붐\n",
      "소제목:  NHK '헤이세이 시대 마지막 봄' 전하며 언급\n",
      "\"한국=예쁜 것\" 인식…음식·화장품·K팝 즐겨\n",
      "한국 관광도 증가, 악화된 한일 관계는 \"별개\"\n",
      "url:  https://news.mt.co.kr/mtview.php?no=2019040413270354750&type=1\n",
      "제목:  \"관광의 질 높여라\"…'복합리조트' 대안될까\n",
      "소제목:  복합리조트 조성 세계적인 추세…관광 콘텐츠 몰려 있어 생산유발·고용 효과 높아\n",
      "url:  https://news.mt.co.kr/mtview.php?no=2019040413295968559&type=1\n",
      "제목:  무인양품이 호텔에 자율주행차까지 만드는 이유는?\n",
      "소제목:  무인양품, 호텔사업으로 제품 관련 경험 제공…고령화 시대 발맞춰 자율주행 버스도\n",
      "url:  https://news.mt.co.kr/mtview.php?no=2019040417050649953&type=1\n",
      "제목:  국민소득 3만달러 시대, 이 종목을 사라\n",
      "소제목:  [내일의 전략]소득 3만달러 시대 소비공식에서 찾는 투자종목\n",
      "url:  https://news.mt.co.kr/mtview.php?no=2019040410474120771&type=1\n",
      "제목:  노랑풍선, 카카오톡 플러스친구 ‘30만 돌파 기념 이벤트’ 개최\n",
      "소제목:  \n",
      "url:  https://news.mt.co.kr/mtview.php?no=2019040308504810358&type=1\n",
      "제목:  관광공사, 日 후쿠오카서 '한국문화관광대전' 개최\n",
      "소제목:  한류스타 스페셜 콘서트·토크쇼로 한국관광 매력 전파…핵심 고객 여성층 대상 콘텐츠 소개도\n",
      "url:  https://news.mt.co.kr/mtview.php?no=2019040220155691762&type=1\n",
      "제목:  [MT리포트] \"5000만원어치 주세요\" 면세점 점령한 따이궁\n",
      "소제목:  [면세 '큰 손' 따이궁, 누구인가](종합)\n",
      "url:  https://news.mt.co.kr/mtview.php?no=2019032815203489329&type=1\n",
      "제목:  [MT리포트]진화하는 따이궁…전용앱부터 전문짐꾼까지\n",
      "소제목:  [면세 '큰 손' 따이궁, 누구인가]② 전용앱으로 수수료 비교하고, 전문짐꾼으로 수하물 한도 해결\n",
      "url:  https://news.mt.co.kr/mtview.php?no=2019040211333238596&type=1\n",
      "제목:  IPO 앞둔 에어비앤비, '기회의 땅' 인도에 투자\n",
      "소제목:  숙박 스타트업 오요(OYO)에 1억~2억달러 투자\n",
      "url:  https://news.mt.co.kr/mtview.php?no=2019040113273828019&type=1\n",
      "제목:  \"일본인 여행객 잡는다\"…관광공사, 日 라쿠텐과 MOU\n",
      "소제목:  \n",
      "url:  https://news.mt.co.kr/mtview.php?no=2019040111571228535&type=1\n",
      "제목:  비씨카드, 일본 온∙오프라인 비자 가맹점 캐시백 이벤트 실시\n",
      "소제목:  \n"
     ]
    }
   ],
   "source": [
    "# search = input(\"검색: \")\n",
    "search = '%C0%CF%BA%BB+%BF%A9%C7%E0'\n",
    "# 보통 우리가 무엇을 검색해서 크롤링 할 지 정해져있기 때문에 미리 저장해둠.\n",
    "mtUrl(search)"
   ]
  },
  {
   "cell_type": "code",
   "execution_count": null,
   "metadata": {},
   "outputs": [],
   "source": []
  },
  {
   "cell_type": "code",
   "execution_count": null,
   "metadata": {},
   "outputs": [],
   "source": []
  },
  {
   "cell_type": "code",
   "execution_count": null,
   "metadata": {},
   "outputs": [],
   "source": []
  },
  {
   "cell_type": "code",
   "execution_count": null,
   "metadata": {},
   "outputs": [],
   "source": []
  },
  {
   "cell_type": "code",
   "execution_count": null,
   "metadata": {},
   "outputs": [],
   "source": []
  },
  {
   "cell_type": "code",
   "execution_count": null,
   "metadata": {},
   "outputs": [],
   "source": []
  }
 ],
 "metadata": {
  "kernelspec": {
   "display_name": "Python 3",
   "language": "python",
   "name": "python3"
  },
  "language_info": {
   "codemirror_mode": {
    "name": "ipython",
    "version": 3
   },
   "file_extension": ".py",
   "mimetype": "text/x-python",
   "name": "python",
   "nbconvert_exporter": "python",
   "pygments_lexer": "ipython3",
   "version": "3.7.6"
  }
 },
 "nbformat": 4,
 "nbformat_minor": 4
}
