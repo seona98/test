{
 "cells": [
  {
   "cell_type": "code",
   "execution_count": 1,
   "metadata": {},
   "outputs": [],
   "source": [
    "from selenium import webdriver\n",
    "from selenium.webdriver.common.keys import Keys\n",
    "import time # 사이트 기동될 때 까지 2초 정도를 줌. - 셀리니움에서 get. request에서 get쓸 때\n",
    "import pymysql"
   ]
  },
  {
   "cell_type": "code",
   "execution_count": 2,
   "metadata": {},
   "outputs": [],
   "source": [
    "# 사이트 기동\n",
    "def dongaUrl(search):\n",
    "        url_temp = 'https://www.hankookilbo.com/Search?&q={search}&c=&s=1&from=2019.03.01&until=2020-05-20'.format(search=search)\n",
    "        driver = webdriver.Chrome(\"./chromedriver.exe\")\n",
    "        driver.get(url_temp)\n",
    "        time.sleep(2)\n",
    "        \n",
    "        return dongaUrlList(driver)"
   ]
  },
  {
   "cell_type": "code",
   "execution_count": 17,
   "metadata": {},
   "outputs": [],
   "source": [
    "# 2단계 목록에서 href 가져오기\n",
    "def dongaUrlList(driver):\n",
    "    url_temp = driver.current_url \n",
    "    dongaUrls_List = []\n",
    "    for pageNo in range(1, 2, 1):\n",
    "        print(pageNo)\n",
    "        url = url_temp + \"&Page={pageNo}\".format(pageNo=pageNo)\n",
    "        driver.get(url)\n",
    "    \n",
    "        dongaUrls = driver.find_elements_by_css_selector(\".article-list .item .body a\")\n",
    "        for urlList in dongaUrls:\n",
    "            dongaUrls_List.append(urlList.get_attribute(\"href\"))\n",
    "    return dongaInfo(driver, dongaUrls_List)"
   ]
  },
  {
   "cell_type": "code",
   "execution_count": 32,
   "metadata": {},
   "outputs": [],
   "source": [
    "def dongaInfo(driver, dongaUrls_List):\n",
    "    for urllist in dongaUrls_List:\n",
    "        driver.get(urllist)\n",
    "        time.sleep(2)\n",
    "#         . 은 class, # 은 id값, HTML tag는 그대로 표현됨\n",
    "        print(urllist)\n",
    "    \n",
    "        # 제목\n",
    "        newsTitleList = driver.find_elements_by_css_selector(\".article-header h3\")\n",
    "        newsTitle_temp = newsTitleList[0]\n",
    "        newsTitle = newsTitle_temp.text\n",
    "        print(newsTitle)\n",
    "        \n",
    "        #  소제목\n",
    "#         newsSubtitle = driver.find_element_by_css_selector(\".article-story .read\").text\n",
    "        newsSubtitle = \"\"\n",
    "#         newsSubtitleList = driver.find_elements_by_css_selector(\".article-story .read\")\n",
    "#         newsSubtitle_temp = newsSubtitleList[0]\n",
    "#         newSubtitle = newsSubtitle_temp.text\n",
    "        print(newsSubtitle)\n",
    "        \n",
    "        # 날짜\n",
    "        newsDate = \"\"\n",
    "        newsDateList = driver.find_elements_by_css_selector(\".info\")\n",
    "        newsDate_temp = newsDateList[0]\n",
    "        newsDate = newsDate_temp.text\n",
    "        newsDate = newsDate.replace(\"입력 \", \"\").replace(\".\", \"\")[0:8]\n",
    "        print(newsDate)\n",
    "        \n",
    "#         # 내용\n",
    "#         newsContents = \"\"\n",
    "#         newsContentsList = driver.find_elements_by_css_selector(\".article-story .read\")\n",
    "#         for newsContent in newsContentsList:\n",
    "#             newsContents = newsContents + newsContent.text\n",
    "#         print(newsContents)\n",
    "\n",
    "#         dbData = [[urllist, newsDate, newsTitle, newsSubtitle, newsContents]]\n",
    "#         connectDB(dbData)"
   ]
  },
  {
   "cell_type": "code",
   "execution_count": 31,
   "metadata": {},
   "outputs": [
    {
     "name": "stdout",
     "output_type": "stream",
     "text": [
      "1\n",
      "https://www.hankookilbo.com/News/Npath/202003261503731422\n",
      "[시시콜콜Why] ‘모동숲’이 뭐지…코로나19·일본 불매운동에도 없어서 못 사는 이유\n"
     ]
    },
    {
     "ename": "IndexError",
     "evalue": "list index out of range",
     "output_type": "error",
     "traceback": [
      "\u001b[1;31m---------------------------------------------------------------------------\u001b[0m",
      "\u001b[1;31mIndexError\u001b[0m                                Traceback (most recent call last)",
      "\u001b[1;32m<ipython-input-31-e04ec46249cb>\u001b[0m in \u001b[0;36m<module>\u001b[1;34m\u001b[0m\n\u001b[0;32m      2\u001b[0m \u001b[0msearch\u001b[0m \u001b[1;33m=\u001b[0m \u001b[1;34m'일본 불매운동'\u001b[0m\u001b[1;33m\u001b[0m\u001b[1;33m\u001b[0m\u001b[0m\n\u001b[0;32m      3\u001b[0m \u001b[1;31m# 보통 우리가 무엇을 검색해서 크롤링 할 지 정해져있기 때문에 미리 저장해둠.\u001b[0m\u001b[1;33m\u001b[0m\u001b[1;33m\u001b[0m\u001b[1;33m\u001b[0m\u001b[0m\n\u001b[1;32m----> 4\u001b[1;33m \u001b[0mdongaUrl\u001b[0m\u001b[1;33m(\u001b[0m\u001b[0msearch\u001b[0m\u001b[1;33m)\u001b[0m\u001b[1;33m\u001b[0m\u001b[1;33m\u001b[0m\u001b[0m\n\u001b[0m",
      "\u001b[1;32m<ipython-input-2-c5ec821e3053>\u001b[0m in \u001b[0;36mdongaUrl\u001b[1;34m(search)\u001b[0m\n\u001b[0;32m      6\u001b[0m         \u001b[0mtime\u001b[0m\u001b[1;33m.\u001b[0m\u001b[0msleep\u001b[0m\u001b[1;33m(\u001b[0m\u001b[1;36m2\u001b[0m\u001b[1;33m)\u001b[0m\u001b[1;33m\u001b[0m\u001b[1;33m\u001b[0m\u001b[0m\n\u001b[0;32m      7\u001b[0m \u001b[1;33m\u001b[0m\u001b[0m\n\u001b[1;32m----> 8\u001b[1;33m         \u001b[1;32mreturn\u001b[0m \u001b[0mdongaUrlList\u001b[0m\u001b[1;33m(\u001b[0m\u001b[0mdriver\u001b[0m\u001b[1;33m)\u001b[0m\u001b[1;33m\u001b[0m\u001b[1;33m\u001b[0m\u001b[0m\n\u001b[0m",
      "\u001b[1;32m<ipython-input-17-c81b321c7018>\u001b[0m in \u001b[0;36mdongaUrlList\u001b[1;34m(driver)\u001b[0m\n\u001b[0;32m     11\u001b[0m         \u001b[1;32mfor\u001b[0m \u001b[0murlList\u001b[0m \u001b[1;32min\u001b[0m \u001b[0mdongaUrls\u001b[0m\u001b[1;33m:\u001b[0m\u001b[1;33m\u001b[0m\u001b[1;33m\u001b[0m\u001b[0m\n\u001b[0;32m     12\u001b[0m             \u001b[0mdongaUrls_List\u001b[0m\u001b[1;33m.\u001b[0m\u001b[0mappend\u001b[0m\u001b[1;33m(\u001b[0m\u001b[0murlList\u001b[0m\u001b[1;33m.\u001b[0m\u001b[0mget_attribute\u001b[0m\u001b[1;33m(\u001b[0m\u001b[1;34m\"href\"\u001b[0m\u001b[1;33m)\u001b[0m\u001b[1;33m)\u001b[0m\u001b[1;33m\u001b[0m\u001b[1;33m\u001b[0m\u001b[0m\n\u001b[1;32m---> 13\u001b[1;33m     \u001b[1;32mreturn\u001b[0m \u001b[0mdongaInfo\u001b[0m\u001b[1;33m(\u001b[0m\u001b[0mdriver\u001b[0m\u001b[1;33m,\u001b[0m \u001b[0mdongaUrls_List\u001b[0m\u001b[1;33m)\u001b[0m\u001b[1;33m\u001b[0m\u001b[1;33m\u001b[0m\u001b[0m\n\u001b[0m",
      "\u001b[1;32m<ipython-input-30-5e1636cc46d2>\u001b[0m in \u001b[0;36mdongaInfo\u001b[1;34m(driver, dongaUrls_List)\u001b[0m\n\u001b[0;32m     16\u001b[0m         \u001b[0mnewsSubtitle\u001b[0m \u001b[1;33m=\u001b[0m \u001b[1;34m\"\"\u001b[0m\u001b[1;33m\u001b[0m\u001b[1;33m\u001b[0m\u001b[0m\n\u001b[0;32m     17\u001b[0m         \u001b[0mnewsSubtitleList\u001b[0m \u001b[1;33m=\u001b[0m \u001b[0mdriver\u001b[0m\u001b[1;33m.\u001b[0m\u001b[0mfind_elements_by_css_selector\u001b[0m\u001b[1;33m(\u001b[0m\u001b[1;34m\".article-story .read\"\u001b[0m\u001b[1;33m)\u001b[0m\u001b[1;33m\u001b[0m\u001b[1;33m\u001b[0m\u001b[0m\n\u001b[1;32m---> 18\u001b[1;33m         \u001b[0mnewsSubtitle_temp\u001b[0m \u001b[1;33m=\u001b[0m \u001b[0mnewsSubtitleList\u001b[0m\u001b[1;33m[\u001b[0m\u001b[1;36m0\u001b[0m\u001b[1;33m]\u001b[0m\u001b[1;33m\u001b[0m\u001b[1;33m\u001b[0m\u001b[0m\n\u001b[0m\u001b[0;32m     19\u001b[0m         \u001b[0mnewSubtitle\u001b[0m \u001b[1;33m=\u001b[0m \u001b[0mnewsSubtitle_temp\u001b[0m\u001b[1;33m.\u001b[0m\u001b[0mtext\u001b[0m\u001b[1;33m\u001b[0m\u001b[1;33m\u001b[0m\u001b[0m\n\u001b[0;32m     20\u001b[0m         \u001b[0mprint\u001b[0m\u001b[1;33m(\u001b[0m\u001b[0mnewsSubtitle\u001b[0m\u001b[1;33m)\u001b[0m\u001b[1;33m\u001b[0m\u001b[1;33m\u001b[0m\u001b[0m\n",
      "\u001b[1;31mIndexError\u001b[0m: list index out of range"
     ]
    }
   ],
   "source": [
    "# search = input(\"검색: \")\n",
    "search = '일본 불매운동'\n",
    "# 보통 우리가 무엇을 검색해서 크롤링 할 지 정해져있기 때문에 미리 저장해둠.\n",
    "dongaUrl(search)"
   ]
  },
  {
   "cell_type": "code",
   "execution_count": null,
   "metadata": {},
   "outputs": [],
   "source": []
  },
  {
   "cell_type": "code",
   "execution_count": null,
   "metadata": {},
   "outputs": [],
   "source": [
    "def connectDB(dbData):\n",
    "    DB_HOST = '127.0.0.1'\n",
    "    DB_USER = 'root'\n",
    "    DB_PASSWD = 'autoset'\n",
    "    DB_NAME = 'python'\n",
    "    \n",
    "    conn = pymysql.connect(host=DB_HOST, user=DB_USER, password=DB_PASSWD,\n",
    "                          db=DB_NAME, charset='utf8')\n",
    "    curs = conn.cursor()\n",
    "    sql = \"\"\"insert into donga(url, newsDate, newsTitle,newsSubtitle,contents) values (%s, %s, %s, %s, %s)\"\"\"\n",
    "    curs.executemany(sql,dbData)\n",
    "    conn.commit()\n",
    "    \n",
    "    conn.close()"
   ]
  },
  {
   "cell_type": "code",
   "execution_count": null,
   "metadata": {},
   "outputs": [],
   "source": []
  },
  {
   "cell_type": "code",
   "execution_count": null,
   "metadata": {},
   "outputs": [],
   "source": []
  },
  {
   "cell_type": "code",
   "execution_count": null,
   "metadata": {},
   "outputs": [],
   "source": []
  },
  {
   "cell_type": "code",
   "execution_count": null,
   "metadata": {},
   "outputs": [],
   "source": []
  },
  {
   "cell_type": "code",
   "execution_count": null,
   "metadata": {},
   "outputs": [],
   "source": []
  },
  {
   "cell_type": "code",
   "execution_count": null,
   "metadata": {},
   "outputs": [],
   "source": []
  }
 ],
 "metadata": {
  "kernelspec": {
   "display_name": "Python 3",
   "language": "python",
   "name": "python3"
  },
  "language_info": {
   "codemirror_mode": {
    "name": "ipython",
    "version": 3
   },
   "file_extension": ".py",
   "mimetype": "text/x-python",
   "name": "python",
   "nbconvert_exporter": "python",
   "pygments_lexer": "ipython3",
   "version": "3.7.6"
  }
 },
 "nbformat": 4,
 "nbformat_minor": 4
}
