{
 "cells": [
  {
   "cell_type": "markdown",
   "metadata": {},
   "source": [
    "## 공공 데이터 OPEN API\n",
    "* 사용할 데이터: https://www.data.go.kr/tcs/dss/selectApiDataDetailView.do?publicDataPk=15043376\n",
    "* 오류 날 경우 참고: http://blog.naver.com/PostView.nhn?blogId=yandul83&logNo=220336636011"
   ]
  },
  {
   "cell_type": "code",
   "execution_count": 56,
   "metadata": {},
   "outputs": [],
   "source": [
    "# 서비스 인증키\n",
    "# sES7e5FoAXcZy4uUyH21ydaN1QagS2D6QCGQUVgb28fyudLVopCtX7P87FDviAoDgwTw9eatGqnzFwzwHb%2FIXQ%3D%3D\n",
    "\n",
    "# url로 볼 때\n",
    "# 활용가이드 살펴보면 serviceKey라고 되어있어서 오류남. ServiceKey로 바꿔야 한다.\n",
    "# http://openapi.data.go.kr/openapi/service/rest/Covid19/getCovid19InfStateJson?ServiceKey=sES7e5FoAXcZy4uUyH21ydaN1QagS2D6QCGQUVgb28fyudLVopCtX7P87FDviAoDgwTw9eatGqnzFwzwHb%2FIXQ%3D%3D&pageNo=1&numOfRows=10&startCreateDt=20200310&endCreateDt=20200315"
   ]
  },
  {
   "cell_type": "markdown",
   "metadata": {},
   "source": [
    "* 결과코드\tresultCode\t2\t필수\t00\t결과코드\n",
    "* 결과메시지\tresultMsg\t50\t필수\tOK\t결과메시지\n",
    "* 한 페이지 결과 수\tnumOfRows\t4\t필수\t10\t한 페이지 결과 수\n",
    "* 페이지 번호\tpageNo\t4\t필수\t1\t페이지번호 -----------------------------------url에서 사용\n",
    "* 전체 결과 수\ttotalCount\t4\t필수\t3\t전체 결과 수 -----------------------------url에서 사용\n",
    "* 게시글번호(감염현황 고유값)\tSEQ\t30\t필수\t74\t게시글번호(감염현황 고유값)\n",
    "* 기준일\tSTATE_DT\t30\t필수\t20200315\t기준일\n",
    "* 기준시간\tSTATE_TIME\t30\t필수\t00:00\t기준시간\n",
    "* 확진자 수\tDECIDE_CNT\t15\t필수\t8162\t확진자 수\n",
    "* 격리해제 수\tCLEAR_CNT\t15\t필수\t834\t격리해제 수\n",
    "* 검사진행 수\tEXAM_CNT\t15\t필수\t16272\t검사진행 수\n",
    "* 사망자 수\tDEATH_CNT\t15\t필수\t75\t사망자 수\n",
    "* 치료중 환자 수\tCARE_CNT\t15\t필수\t7253\t치료중 환자 수\n",
    "* 결과 음성 수\tRESUTL_NEG_CNT\t15\t필수\t243778\t결과 음성 수\n",
    "* 누적 검사 수\tACC_EXAM_CNT\t15\t필수\t268212\t누적 검사 수\n",
    "* 누적 검사 완료 수\tACC_EXAM_COMP_CNT\t15\t필수\t251940\t누적 검사 완료 수\n",
    "* 누적 환진률\tACC_DEF_RATE\t30\t필수\t3.2396602365\t누적 환진률\n",
    "* 등록일시분초\tCREATE_DT\t30\t필수\t2020-03-15 10:01:22.000\t등록일시분초\n",
    "* 수정일시분초\tUPDATE_DT\t30\t필수\tnull\t수정일시분초"
   ]
  },
  {
   "cell_type": "code",
   "execution_count": 55,
   "metadata": {
    "scrolled": false
   },
   "outputs": [
    {
     "name": "stdout",
     "output_type": "stream",
     "text": [
      "Your Request:\n",
      "http://openapi.data.go.kr/openapi/service/rest/Covid19/getCovid19InfStateJson?ServiceKey=sES7e5FoAXcZy4uUyH21ydaN1QagS2D6QCGQUVgb28fyudLVopCtX7P87FDviAoDgwTw9eatGqnzFwzwHb%252FIXQ%253D%253D&pageNo=1&totalCount=1&startCreateDt=20200310&endCreateDt=20200310\n",
      "\n",
      "Result:\n",
      "b'<?xml version=\"1.0\" encoding=\"UTF-8\" standalone=\"yes\"?><response><header><resultCode>00</resultCode><resultMsg>NORMAL SERVICE.</resultMsg></header><body><items><item><accDefRate>3.9193080566</accDefRate><accExamCnt>210144</accExamCnt><accExamCompCnt>191692</accExamCompCnt><careCnt>7212</careCnt><clearCnt>247</clearCnt><createDt>2020-03-10 10:20:27.27</createDt><deathCnt>54</deathCnt><decideCnt>7513</decideCnt><examCnt>18452</examCnt><resutlNegCnt>184179</resutlNegCnt><seq>69</seq><stateDt>20200310</stateDt><stateTime>00:00</stateTime><updateDt></updateDt></item></items><numOfRows>10</numOfRows><pageNo>1</pageNo><totalCount>1</totalCount></body></response>'\n",
      "\n",
      "DataType of Result Data:\n",
      "<class 'bytes'>\n"
     ]
    }
   ],
   "source": [
    "from urllib.request import urlopen\n",
    "from urllib.parse import urlencode,unquote,quote_plus\n",
    "import urllib\n",
    "\n",
    "url = 'http://openapi.data.go.kr/openapi/service/rest/Covid19/getCovid19InfStateJson'\n",
    "queryParams = '?' + urlencode({ quote_plus('ServiceKey') : 'sES7e5FoAXcZy4uUyH21ydaN1QagS2D6QCGQUVgb28fyudLVopCtX7P87FDviAoDgwTw9eatGqnzFwzwHb%2FIXQ%3D%3D',\n",
    "    quote_plus('pageNo') : '1',\n",
    "    quote_plus('totalCount'): '1',\n",
    "    quote_plus('startCreateDt') : '20200310',\n",
    "    quote_plus('endCreateDt') : '20200310'})\n",
    "\n",
    "request = urllib.request.Request(url+unquote(queryParams))\n",
    "print ('Your Request:\\n'+url+queryParams)\n",
    "request.get_method = lambda: 'GET'\n",
    "response_body = urlopen(request).read()\n",
    "print (\"\\nResult:\")\n",
    "print (response_body)\n",
    "print (\"\\nDataType of Result Data:\")\n",
    "print (type(response_body))\n"
   ]
  },
  {
   "cell_type": "markdown",
   "metadata": {},
   "source": [
    "* 아직 이해가...\n",
    "* https://da-nika.tistory.com/14\n",
    "* https://blog.naver.com/PostView.nhn?blogId=pk3152&logNo=221367298814"
   ]
  },
  {
   "cell_type": "code",
   "execution_count": 69,
   "metadata": {},
   "outputs": [
    {
     "name": "stdout",
     "output_type": "stream",
     "text": [
      "기준일 : 20200315\n",
      "확진자 : 8162\n",
      "격리해제 : 834\n",
      "검사진행 : 16272\n",
      "사망자 : 75\n",
      "치료중 : 7253\n",
      "\n",
      "기준일 : 20200314\n",
      "확진자 : 8086\n",
      "격리해제 : 714\n",
      "검사진행 : 17634\n",
      "사망자 : 72\n",
      "치료중 : 7300\n",
      "\n",
      "기준일 : 20200313\n",
      "확진자 : 7979\n",
      "격리해제 : 510\n",
      "검사진행 : 17940\n",
      "사망자 : 67\n",
      "치료중 : 7402\n",
      "\n",
      "기준일 : 20200312\n",
      "확진자 : 7869\n",
      "격리해제 : 333\n",
      "검사진행 : 17727\n",
      "사망자 : 66\n",
      "치료중 : 7470\n",
      "\n",
      "기준일 : 20200311\n",
      "확진자 : 7755\n",
      "격리해제 : 288\n",
      "검사진행 : 18540\n",
      "사망자 : 60\n",
      "치료중 : 7407\n",
      "\n",
      "기준일 : 20200310\n",
      "확진자 : 7513\n",
      "격리해제 : 247\n",
      "검사진행 : 18452\n",
      "사망자 : 54\n",
      "치료중 : 7212\n",
      "\n"
     ]
    }
   ],
   "source": [
    "import urllib.request as ul\n",
    "import xmltodict\n",
    "import json\n",
    "import sys\n",
    "import io\n",
    "\n",
    "url = \"http://openapi.data.go.kr/openapi/service/rest/Covid19/getCovid19InfStateJson?ServiceKey=sES7e5FoAXcZy4uUyH21ydaN1QagS2D6QCGQUVgb28fyudLVopCtX7P87FDviAoDgwTw9eatGqnzFwzwHb%2FIXQ%3D%3D&pageNo=1&numOfRows=10&startCreateDt=20200310&endCreateDt=20200315\"\n",
    "#데이터를 받을 url\n",
    " \n",
    "request = ul.Request(url)\n",
    "#url의 데이터를 요청함\n",
    "\n",
    "response = ul.urlopen(request)\n",
    "#요청받은 데이터를 열어줌\n",
    "\n",
    "rescode = response.getcode()\n",
    "#제대로 데이터가 수신됐는지 확인하는 코드 성공시 200\n",
    "if(rescode == 200):\n",
    "    responseData = response.read()\n",
    "    #요청받은 데이터를 읽음\n",
    "    rD = xmltodict.parse(responseData)\n",
    "    #XML형식의 데이터를 dict형식으로 변환시켜줌\n",
    "\n",
    "    rDJ = json.dumps(rD)\n",
    "    #dict 형식의 데이터를 json형식으로 변환\n",
    "\n",
    "    rDD = json.loads(rDJ)\n",
    "    #json형식의 데이터를 dict 형식으로 변환\n",
    "    \n",
    "#     print(rDD)\n",
    "    #정상적으로 데이터가 출력되는지 확인\n",
    "\n",
    "    w_data = rDD[\"response\"][\"body\"][\"items\"][\"item\"]\n",
    "    #해당 dict형식의 파일의 item을 사용하기 편하도록 w_data에 저장\n",
    "\n",
    "# print(len(w_data))\n",
    "\n",
    "for i in range(len(w_data)):\n",
    "    print('기준일 : '+w_data[i][\"stateDt\"])\n",
    "    print('확진자 : '+w_data[i][\"decideCnt\"])\n",
    "    print('격리해제 : '+w_data[i][\"clearCnt\"])\n",
    "    print('검사진행 : '+w_data[i][\"examCnt\"])\n",
    "    print('사망자 : '+w_data[i][\"deathCnt\"])\n",
    "    print('치료중 : '+w_data[i][\"careCnt\"])\n",
    "    print()\n"
   ]
  },
  {
   "cell_type": "markdown",
   "metadata": {},
   "source": [
    "* csv"
   ]
  }
 ],
 "metadata": {
  "kernelspec": {
   "display_name": "Python 3",
   "language": "python",
   "name": "python3"
  },
  "language_info": {
   "codemirror_mode": {
    "name": "ipython",
    "version": 3
   },
   "file_extension": ".py",
   "mimetype": "text/x-python",
   "name": "python",
   "nbconvert_exporter": "python",
   "pygments_lexer": "ipython3",
   "version": "3.8.3"
  }
 },
 "nbformat": 4,
 "nbformat_minor": 4
}
