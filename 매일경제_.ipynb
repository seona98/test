{
 "cells": [
  {
   "cell_type": "code",
   "execution_count": null,
   "metadata": {},
   "outputs": [],
   "source": [
    "from selenium import webdriver\n",
    "from selenium.webdriver.common.keys import Keys\n",
    "import pymysql\n",
    "import time"
   ]
  },
  {
   "cell_type": "code",
   "execution_count": null,
   "metadata": {},
   "outputs": [],
   "source": [
    "def mk(search):\n",
    "    url = \"http://find.mk.co.kr/new/search.php\"\n",
    "    driver = webdriver.Chrome(\"./chromedriver.exe\")\n",
    "    driver.get(url)\n",
    "    time.sleep(2)\n",
    "\n",
    "    inputNews = driver.find_element_by_id(\"search\")\n",
    "    inputNews.send_keys(search)\n",
    "    inputNews.send_keys(Keys.ENTER)\n",
    "\n",
    "    moreInfo = driver.find_elements_by_css_selector(\"tbody tr .class_more a\")  \n",
    "    infoJss = []\n",
    "    infoJss.append(moreInfo[0].get_attribute(\"href\"))\n",
    "    moreBtn =moreInfo[0].get_attribute(\"href\")\n",
    "    driver.execute_script(moreBtn)\n",
    "    \n",
    "    mkUrlList(driver)"
   ]
  },
  {
   "cell_type": "code",
   "execution_count": null,
   "metadata": {},
   "outputs": [],
   "source": [
    "def mkUrlList(driver):\n",
    "    url2 = driver.current_url\n",
    "    for pageNo in range(1,53): #2페이지까지\n",
    "        url = url2 + \"&pageNum={pageNo}\".format(pageNo=pageNo)\n",
    "        driver.get(url)\n",
    "        time.sleep(2)\n",
    "        mknewsUrs= driver.find_elements_by_css_selector(\"table tbody tr td .sub_list .art_tit a\")\n",
    "        mknewsUrs_List = []\n",
    "        for urlList in mknewsUrs:\n",
    "            mknewsUrs_List.append(urlList.get_attribute(\"href\"))\n",
    "\n",
    "        mkInfo(driver,mknewsUrs_List)"
   ]
  },
  {
   "cell_type": "code",
   "execution_count": null,
   "metadata": {},
   "outputs": [],
   "source": [
    "def mkInfo(driver,mknewsUrs_List):\n",
    "    for urlList in mknewsUrs_List:\n",
    "        driver.get(urlList)\n",
    "        try:        \n",
    "            if driver.find_elements_by_css_selector(\".news_title_author .lasttime\") != [] :\n",
    "                newsDate = driver.find_element_by_css_selector(\".news_title_author .lasttime\").text.replace(\"입력 : \",\"\").replace(\".\",\"\")[0:8]\n",
    "            else :\n",
    "                newsDate = driver.find_element_by_css_selector(\".news_title_author .lasttime1\").text.replace(\"입력 : \",\"\").replace(\".\",\"\")[0:8]\n",
    "        \n",
    "            newsTitle = driver.find_element_by_css_selector(\".top_title\").text\n",
    "            newsSubtitles = driver.find_elements_by_css_selector(\"#article_body\")\n",
    "            newsSubtitle_result = \"\"\n",
    "            for newsSubtitle in newsSubtitles:\n",
    "                newsSubtitle_result+=newsSubtitle.text\n",
    "            content_result = driver.find_element_by_css_selector(\".art_txt\").text\n",
    "            \n",
    "            print(\"- url - : \\n\",urlList)\n",
    "            print(\"- 날짜 - : \\n\",newsDate)        \n",
    "            print(\"- 기사 제목 - : \\n\",newsTitle)\n",
    "#        print(\"- 기사 부제목 - \\n:\",newsSubtitle_result)\n",
    "#        print(\"- 기사 본문 - \\n\")\n",
    "#        print(content_result)\n",
    "\n",
    "            dbData = [[urlList,newsDate,newsTitle,newsSubtitle_result,content_result]]\n",
    "            connectDB(dbData)\n",
    "        except:\n",
    "            continue"
   ]
  },
  {
   "cell_type": "code",
   "execution_count": null,
   "metadata": {},
   "outputs": [],
   "source": [
    "def connectDB(dbData):\n",
    "    DB_HOST = '127.0.0.1'\n",
    "    DB_USER = 'root'\n",
    "    DB_PASSWD = 'autoset'\n",
    "    DB_NAME = 'python'\n",
    "    \n",
    "    conn = pymysql.connect(host=DB_HOST, user=DB_USER, password=DB_PASSWD,\n",
    "                       db=DB_NAME, charset='utf8')\n",
    "    \n",
    "    curs = conn.cursor()\n",
    "\n",
    "    sql = \"\"\"insert into mkargomig(url,newsDate, newsTitle,newsSubtitle,content)\n",
    "         values (%s, %s, %s, %s, %s)\"\"\"\n",
    "    curs.executemany(sql,dbData)\n",
    "    \n",
    "    conn.commit()\n",
    "\n",
    "    conn.close()"
   ]
  },
  {
   "cell_type": "code",
   "execution_count": null,
   "metadata": {},
   "outputs": [],
   "source": [
    "# search = input(\"검색 : \")\n",
    "search = \"인공지능\"\n",
    "매일경제(search)"
   ]
  },
  {
   "cell_type": "code",
   "execution_count": null,
   "metadata": {},
   "outputs": [],
   "source": []
  },
  {
   "cell_type": "code",
   "execution_count": null,
   "metadata": {},
   "outputs": [],
   "source": []
  }
 ],
 "metadata": {
  "kernelspec": {
   "display_name": "Python 3",
   "language": "python",
   "name": "python3"
  },
  "language_info": {
   "codemirror_mode": {
    "name": "ipython",
    "version": 3
   },
   "file_extension": ".py",
   "mimetype": "text/x-python",
   "name": "python",
   "nbconvert_exporter": "python",
   "pygments_lexer": "ipython3",
   "version": "3.7.6"
  }
 },
 "nbformat": 4,
 "nbformat_minor": 4
}
