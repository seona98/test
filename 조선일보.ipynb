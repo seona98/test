{
 "cells": [
  {
   "cell_type": "code",
   "execution_count": 1,
   "metadata": {},
   "outputs": [],
   "source": [
    "from selenium import webdriver\n",
    "from selenium.webdriver.common.keys import Keys\n",
    "import time # 사이트 기동될 때 까지 2초 정도를 줌. - 셀리니움에서 get. request에서 get쓸 때\n",
    "import pymysql"
   ]
  },
  {
   "cell_type": "code",
   "execution_count": 2,
   "metadata": {},
   "outputs": [],
   "source": [
    "def chosunnewsUrl(search):\n",
    "        url_temp = 'https://nsearch.chosun.com/search/total.search?query={search}&sort=1'.format(search=search)\n",
    "        driver = webdriver.Chrome(\"./chromedriver.exe\")\n",
    "        driver.get(url_temp)\n",
    "        time.sleep(2)\n",
    "        \n",
    "        return chosunnewsUrlList(driver)"
   ]
  },
  {
   "cell_type": "code",
   "execution_count": 1,
   "metadata": {},
   "outputs": [],
   "source": [
    "def chosunnewsUrlList(driver):\n",
    "    url_temp = driver.current_url \n",
    "    # 메모리의 위치값에서 current_url -> 크롬 브라우저의 주소값을 넘겨줌\n",
    "    for pageNo in range(1, 3, 1):\n",
    "        url = url_temp + \"&pageNum={pageNo}\".format(pageNo=pageNo)\n",
    "        print(url)\n",
    "        driver.get(url)\n",
    "        time.sleep(2)\n",
    "        \n",
    "        chosunnewsUrls_List = []\n",
    "        chosunnewsUrls = driver.find_elements_by_css_selector(\".search_news_box .search_news .thumb a\")\n",
    "        \n",
    "        # 중간에 배너광고를 배제시키기 위해서 사용.\n",
    "        for urlList in chosunnewsUrls:\n",
    "            if urlList.get_attribute(\"href\")[8:12] == 'news':\n",
    "                chosunnewsUrls_List.append(urlList.get_attribute(\"href\"))\n",
    "            else:\n",
    "                pass\n",
    "        return chosunnewsInfo(driver, chosunnewsUrls_List)"
   ]
  },
  {
   "cell_type": "code",
   "execution_count": 2,
   "metadata": {},
   "outputs": [],
   "source": [
    "def chosunnewsInfo(driver, chosunnewsUrls_List):\n",
    "    for urllist in chosunnewsUrls_List:\n",
    "        driver.get(urllist)\n",
    "        time.sleep(2)\n",
    "        # 하나씩 가져와서 뛰우기\n",
    "        print(urllist)\n",
    "        #newsTitle은 list\n",
    "        \n",
    "#         newsTitleList = driver.find_element_by_css_selector(\"#news_title_text_id\").text\n",
    "        #.text는 태그는 안오고 텍스트만 가져옴.\n",
    "        #s가 안붙여서 스트링 하나. \n",
    "#         # 같은 거\n",
    "#         newsTitleList = driver.find_elements_by_css_selector(\"#news_title_text_id\")\n",
    "#         newsTitle = newsTitleList[0].text\n",
    "\n",
    "        # 내가 몇 개 나오든 상관없이 똑같이 쓸 수 있는데 위는 재활용측면에서 선호하지 않음\n",
    "        newsTitleList = driver.find_elements_by_css_selector(\"#news_title_text_id\")\n",
    "        newsTitle_temp = newsTitleList[0]\n",
    "        newsTitle = newsTitle_temp.text\n",
    "        print(newsTitle)\n",
    "\n",
    "        # 날짜\n",
    "        newsDate = \"\"\n",
    "        newsDateList = driver.find_elements_by_css_selector(\".news_date\")\n",
    "        newsDate_temp = newsDateList[0]\n",
    "        newsDate = newsDate_temp.text\n",
    "        newsDate = newsDate.replace(\"입력 \", \"\").replace(\".\", \"\")[0:8]\n",
    "    \n",
    "        # 서브타이틀\n",
    "        newsSubtitle = \"\"\n",
    "        newssubTitleList = driver.find_elements_by_css_selector(\".news_subtitle\")\n",
    "        newssubTitle_temp = newssubTitleList[0]\n",
    "        newssubTitle = newssubTitle_temp.text\n",
    "        print(newssubTitle)\n",
    "#         print(newsTitle)\n",
    "    \n",
    "        newsContents = \"\"\n",
    "        newsContentsList = driver.find_elements_by_css_selector(\"#news_body_id .par\")\n",
    "        for newsContent in newsContentsList:\n",
    "            newsContents = newsContents + newsContent.text\n",
    "        print(newsContents)\n",
    "        \n",
    "        dbData = [[urllist, newsDate, newsTitle, newsSubtitle, newsContents]]\n",
    "        connectDB(dbData)"
   ]
  },
  {
   "cell_type": "code",
   "execution_count": 3,
   "metadata": {},
   "outputs": [],
   "source": [
    "def connectDB(dbData):\n",
    "    DB_HOST = '127.0.0.1'\n",
    "    DB_USER = 'root'\n",
    "    DB_PASSWD = 'autoset'\n",
    "    DB_NAME = 'python'\n",
    "    \n",
    "    conn = pymysql.connect(host=DB_HOST, user=DB_USER, password=DB_PASSWD,\n",
    "                          db=DB_NAME, charset='utf8')\n",
    "    curs = conn.cursor()\n",
    "    sql = \"\"\"insert into chosun(url, newsDate, newsTitle,newsSubtitle,contents) values (%s, %s, %s, %s, %s)\"\"\"\n",
    "    curs.executemany(sql,dbData)\n",
    "    conn.commit()\n",
    "    \n",
    "    conn.close()"
   ]
  },
  {
   "cell_type": "code",
   "execution_count": 7,
   "metadata": {},
   "outputs": [
    {
     "name": "stdout",
     "output_type": "stream",
     "text": [
      "https://nsearch.chosun.com/search/total.search?query=%EB%82%A8%EB%B6%81%EA%B4%80%EA%B3%84&sort=1&pn=1\n",
      "https://news.chosun.com/site/data/html_dir/2020/05/07/2020050702119.html\n",
      "김연철 통일 \"판문점 견학, 6월부터 시범 재개\"\n",
      "GP 총격 직후인데…\"안전 문제는 다각적으로 보완\"\n",
      "\"판문점, 중부전선과 달라…北에도 중요 관광자원\"\n",
      "지난해 10월 아프리카돼지열병(ASF) 방역 조치로 중단된 판문점 견학이 다음달부터 시범 관광 형식으로 재개될 예정이다. 김연철 통일부 장관은 7일 출입기자단 간담회에서 “5월 중순 환경부에서 하는 멧돼지 검체 채취 조사를 최종판단의 근거로 삼아 6월부터 소수의 인원으로 시범관광 준비를 하고 있다”고 말했다.\n",
      "\n",
      "앞서 정부는 지난해 가을 접경지역에 ASF가 급속히 확산하자 판문점 견학과 ‘DMZ 평화의 길’ 개방을 중단했다. 김 장관은 판문점 견학 재개와 관련, “안전 문제는 다각적으로 보완을 했다”고 밝혔다. 김 장관은 “판문점은 (최근 총격사건이 발생한) 중부전선하고는 많이 다르다”며 “판문점은 전통적으로 북한 입장에서도 매우 중요한 관광자원”이라고 말했다.\n",
      "\n",
      "북한군이 DMZ(비무장지대) 내 우리 군 최전방 감시소초(GP)에 총격을 가한 지 나흘 만에 정부 고위 인사가 최전방 지역에서의 민간인 관광 재개 방침을 구체적으로 밝힌 것이다. 김 장관은 전날 판문점과 ‘DMZ 평화의 길’ 파주 구간을 시찰하며 견학·탐방 재개 준비 상황을 살폈다.\n",
      "\n",
      "이날 김 장관은 GP 총격 사건에 대해서는 언급을 자제했다. 김 장관은 “(총격 사건은) 국방부서 상세한 설명이 있었던 것으로 안다. 전후 맥락, 상황 등을 충분히 설명한 것으로 알고 있다”며 “유엔사와 군정위도 그 부분은 조사를 하고 있고 조만간 입장이 발표될 것으로 안다”고 했다.\n",
      "\n",
      "김 장관은 코로나 사태로 진척을 보지 못한 남북 협력사업들을 속도감 있게 추진하겠다는 뜻도 밝혔다. 그는 “대통령도 (남북 관계의) 제약과 환경이 해결될 때까지 기다리기보다는 우리가 현재 할 수 있는 현실적 방안들을 적극적으로 찾아보자고 했다”며 “통일부는 우리가 할 수 있는 부분들을 찾아서 계획을 세우고 준비를 하고 있다”고 했다.\n",
      "\n",
      "이어 “가장 중요한 것은 보건·의료 협력 측면에서\n",
      "감염병 공동 대응체계를 만들어갈 필요성”이라며 “일시적인 것보다는 지속가능한, 부분적인 것보다는 좀 더 포괄적인, 일방적 지원보다는 협력 방식으로 컨셉을 변화시키고자 한다”고 말했다.\n",
      "\n",
      "대북 접촉 가능성에 대해선 “협력이라 것은 우리의 일방적 의지로는 한계가 있는데 가능할 시점에 대해 계속 검토하고 있다”며 “조금 더 기다려야 하지 않을까 싶다”고 말했다.\n",
      "https://news.chosun.com/site/data/html_dir/2020/05/05/2020050503063.html\n",
      "[태평로] 상상 속에만 존재하는 '통일의 파트너'\n",
      "北의 적반하장 대응, 東獨 호네커서 실마리 찾아야\n",
      "'독 묻은 사과' 같은 교류 확대… 김정은 응하지 않을 것\n",
      "북한은 이번에 더 화끈했다. 지난해 판문점 선언 1주년 때는 공동 기념행사를 갖자는 우리 측 제안에 \"자중하라\"고 나무라기만 했다. 그런데 선언 2주년을 맞은 올해엔 남쪽을 향해 총질을 했다. 그것도 문재인 대통령이 남북 간 철도 연결과 실향민 상호 방문, 이산가족 상봉 등을 추진하겠다고 밝힌 뒤였다.\n",
      "\n",
      "이번이 처음도 아니다. 북한은 우리 정부가 러브콜을 보낼 때마다 무시·욕설·조롱으로 응수하고 미사일을 쏘아 댔다. 자꾸 반복되다 보니 이런 의문이 든다. '저런 제안들, 북한 김정은의 의중은 알아보고 하는 걸까.'\n",
      "\n",
      "북이 뭐라 하든 이 정부의 대북 퍼주기 행보엔 흔들림이 없다. 그 근거로 서독의 동방 정책 성공을 든다. 1969년 서독 총리 빌리 브란트가 시작한 동방 정책은 '접근을 통한 변화'란 기치 아래 동독에 철도·도로·운하를 건설해 주고 막대한 현금을 쏟아부었다. 심지어 동독 정부 빚보증까지 섰다. 그래서 베를린장벽이 무너지고 통일했다는 거다.\n",
      "\n",
      "그런데 이 정부가 모르거나 외면하는 사실이 하나 있다. 동독 최고 지도자 호네커가 퍼주는 브란트를 몹시 증오했다는 사실이다. 서독의 돈이 필요했던 호네커는 동독 주민의 인권 개선과 상호 교류라는 브란트의 상호주의 원칙을 수용했다. 서독의 동방 정책이 체제를 허무는 독 묻은 사과임을 간파했지만 어쩔 수 없었다. 그 결과, 동·서독을 연결하는 철도와 도로가 놓였고, 많을 땐 한 해 700만명의 서독인이 동독을 방문했다.\n",
      "\n",
      "동방 정책의 맛을 본 동독인들은 호네커를 혐오하고 브란트에 열광했다. 독일 분단 시절 베를린 주재 외교관이었던 윌리엄 스마이저 전 조지타운대 교수는 저서 '얄타에서 베를린까지'에서 호네커가 이런 이유로 브란트를 싫어했으며, 동독 스파이를 브란트의 비서로 심었다가 들통나게 함으로써 그를 총리직에서 몰아낸 게 확실하다고 증언했다.\n",
      "\n",
      "우리도 북한을 자유롭게 여행하고, 실향민끼리 상호 방문하고, 봄이면 남으로 꽃 구경 오는 북쪽 동포들에게 한 아름 선물을 안겨 돌려보내고 싶다. 하지만 동독 해체의 역사를 잘 아는 김정은이 여기에 응할 가능성은 없다. 미국 싱크탱크 스트랫포 CEO를 지낸 조지 프리드먼은 저서 '다가오는 유럽의 위기와 지정학' 서문에서 남북 관계가 교착을 벗어나지 못하는 근본 이유를 이렇게 적시했다. '한국과의 화해가 북한에 아무리 솔깃한 선택지라 해도 실현될 가능성이 없다. (…) 한국과의 화해는 북한에 엄청난 경제적 이익을 안겨주지만 바로 그 이익이 북한 정권을 불안정하게 만들지 모른다.'\n",
      "\n",
      "문 대통령이 통일의 파트너로 믿어 의심치 않는 북한은 그의 상상 속에만 있을 뿐, 현실에는 없다. 반면 북한은 냉철하다. 자기들보다 수십배 잘 살고 세계 최강 미국과 동맹 관계를 맺은 대한민국에 맞서 김씨 왕조를 유지해야 한다는 현실적인 국가 전략이 있을 뿐이다. 우리 정부는 태영호·지성호씨가 김정은의 생사를 못 맞혔다고 질타만 할 게 아니라 북한 체제의 본질을 있는 그대로 보지 못하는 자신들의 맹목부터 걷어내야 한다.\n",
      "\n",
      "미국을 남북 화해의 훼방꾼으로 보는 시각도 버려야 한다. 브란트는 동방 정책의 세부 사항까지 미국과 사전 조율해 지지를 이끌어냈다. 이런 공조는 미\n",
      "국과 서독이 같은 민주적 지향을 지닌 가치 동맹이기 때문이기도 하다. 브란트에 이어 총리가 된 헬무트 슈미트가 잘 설명했다. \"자유·정의·인간 존엄 등은 독일과 미국의 우의와 연대의 근간을 이루는 공동 가치요 원칙이다. 우리는 맹방이기 때문에 같은 이념을 가지는 것이 아니다. 오히려 같은 이념을 가졌기에 맹방이고, 동일한 도덕적 기준을 지녔기에 맹방이다.\"\n",
      "https://news.chosun.com/site/data/html_dir/2020/05/04/2020050400950.html\n",
      "北의 적반하장… GP 총격 해명은 않고 \"南, 북침 준비 광분\"\n",
      "북 매체 \"美무기 도입, 한미훈련은 반민족적 죄악\"\n",
      "'GP총격 해명하라'는 우리 군 전통문엔 묵묵부답\n",
      "북한 매체가 4일 “남조선 당국은 북침전쟁 준비를 위한 무력증강과 군사적 대결 책동에 광분하고 있다”고 비난했다. 북한군이 강원도 비무장지대(DMZ) 내 우리 군 최전방 감시소초(GP)에 총격을 가한 지 하루 만이다. 이번 총격 사건에 대해 ‘해명’을 요구하는 우리 군의 전통문에 응답하지 않은 채 대남 비난을 쏟아낸 것이다.\n",
      "\n",
      "북한 선전매체 메아리는 이날 ‘변명할 수 없는 반민족적 죄악’이란 기사에서 “반(反)공화국 고립·압살 책동에 광분하는 미국과의 동맹 강화에 혈안이 되어 민족의 이익을 해친 남조선 당국의 죄악은 그 무엇으로써도 가리울 수 없다”고 했다.\n",
      "\n",
      "그러면서 “(남조선 당국은) 사상 최대의 국방예산을 책정하고 미국으로부터 스텔스전투기 F-35A와 고고도무인정찰기 글로벌 호크를 비롯한 첨단군사장비들을 계속 끌어들이는가 하면 얼마 전에는 세계적인 대유행병(코로나) 사태에도 아랑곳없이 남조선·미국 연합공중훈련과 해병대 합동상륙훈련까지 벌여놓았다”고 했다.\n",
      "\n",
      "메아리는 “남조선 당국은 입으로\n",
      "는 평화와 관계개선을 떠들고 있지만 실지로는 민족 내부문제를 놓고도 꼬물만한 자주성도 없이 외세와 뻔질나게 마주앉아 쑥덕공론을 벌이며 북남관계를 침체상태에 빠뜨렸다”고 했다.\n",
      "\n",
      "이어 “남조선 당국은 마땅히 북남관계를 경색국면에 빠뜨린 데 대한 책임을 느껴야 하며 외세와 작당하여 반공화국 대결 소동에 열을 올리는 범죄적 망동부터 걷어치워야 한다”고 했다.\n",
      "https://news.chosun.com/site/data/html_dir/2020/05/03/2020050300686.html\n",
      "통합당 \"北 총격도발, 어떤 핑계로도 용납 안돼\"\n",
      "\"목함지뢰 도발 5년만…9·19군사합의 위반\"\n",
      "\"거짓평화에 빠진 정부. 대북기조 전환해야\"\n",
      "미래통합당은 3일 북한의 총격 도발에 대해 “어떤 핑계로도 용납될 수 없는 명확한 9·19 군사합의 위반”이라고 비판했다.통합당 김성원 대변인은 이날 논평에서 “북한이 오늘 아침, 중부전선 비무장지대에서 우리군 GP를 향해 수차례 총격도발을 감행했다고 한다”며 “지난 2015년 목함 지뢰 도발 이후 5년 만에 이루어진 직접 타격”이라고 했다. 이어 “김정은 위원장이 20여일 만에 공개석상에 모습을 드러낸 바로 다음날 이루어진 도발이라는 점에서 그 의도와 준비과정 등에 대한 면밀한 분석이 필요하다”고 했다.\n",
      "\n",
      "김 대변인은 “오늘 북한의 총격도발은 그 어떠한\n",
      "핑계도 용납될 수 없는 명확한 9·19 군사합의 위반”이라며 “이런데도 정부는 여전히 남북 철도를 잇겠다며 거짓평화의 꿈에 빠져있고, 악화된 대북관계는 국제적 제약의 탓으로 돌리고 있다”고 했다. 이어 “대북기조의 전환이 없다면 위협과 도발은 언제고 반복될 것”이라며 “철저한 대비태세와 단호한 대응으로 국민들의 불안감을 해소시켜줄 것을 촉구한다”고 했다.\n"
     ]
    }
   ],
   "source": [
    "search = '남북관계'\n",
    "# 보통 우리가 무엇을 검색해서 크롤링 할 지 정해져있기 때문에 미리 저장해둠.\n",
    "chosunnewsUrl(search)"
   ]
  },
  {
   "cell_type": "code",
   "execution_count": null,
   "metadata": {},
   "outputs": [],
   "source": []
  },
  {
   "cell_type": "code",
   "execution_count": null,
   "metadata": {},
   "outputs": [],
   "source": []
  },
  {
   "cell_type": "code",
   "execution_count": null,
   "metadata": {},
   "outputs": [],
   "source": []
  },
  {
   "cell_type": "code",
   "execution_count": null,
   "metadata": {},
   "outputs": [],
   "source": []
  },
  {
   "cell_type": "code",
   "execution_count": null,
   "metadata": {},
   "outputs": [],
   "source": []
  },
  {
   "cell_type": "code",
   "execution_count": null,
   "metadata": {},
   "outputs": [],
   "source": []
  },
  {
   "cell_type": "code",
   "execution_count": null,
   "metadata": {},
   "outputs": [],
   "source": []
  }
 ],
 "metadata": {
  "kernelspec": {
   "display_name": "Python 3",
   "language": "python",
   "name": "python3"
  },
  "language_info": {
   "codemirror_mode": {
    "name": "ipython",
    "version": 3
   },
   "file_extension": ".py",
   "mimetype": "text/x-python",
   "name": "python",
   "nbconvert_exporter": "python",
   "pygments_lexer": "ipython3",
   "version": "3.7.6"
  }
 },
 "nbformat": 4,
 "nbformat_minor": 4
}
